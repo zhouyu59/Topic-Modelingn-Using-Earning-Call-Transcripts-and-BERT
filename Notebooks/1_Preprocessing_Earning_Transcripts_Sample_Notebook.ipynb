{
  "nbformat": 4,
  "nbformat_minor": 0,
  "metadata": {
    "colab": {
      "provenance": []
    },
    "kernelspec": {
      "name": "python3",
      "display_name": "Python 3"
    },
    "language_info": {
      "name": "python"
    }
  },
  "cells": [
    {
      "cell_type": "code",
      "execution_count": null,
      "metadata": {
        "id": "IKA3v7MwuoOC"
      },
      "outputs": [],
      "source": [
        "# 1. Preprocessing Earning Transcripts Sample Notebook 1.0\n",
        "# Author: Yuchen Zhou\n",
        "# The script contains sample codes for preprocessing earning transcripts (preprocessing earning transcripts from recent five years)\n",
        "# please see functions_for_preprocessing_earning_call_transcript to know the details about preprocessing\n",
        "\n",
        "import functions_for_preprocessing_earning_call_transcripts"
      ]
    },
    {
      "cell_type": "markdown",
      "source": [
        "# **1. Preprocessing Earning Transcripts Sample Code**"
      ],
      "metadata": {
        "id": "Aj9muBnRxwJK"
      }
    },
    {
      "cell_type": "markdown",
      "source": [
        "This code is a sample code for preprocessing earning transcripts from financial service sector in recent five years (2018-2022).\n",
        "\n",
        "To know the detail about preprocessing, please check functions_for_preprocessing_earning_call_transcript.ipynb or functions_for_preprocessing_earning_call_transcript.py"
      ],
      "metadata": {
        "id": "cWGXaqf6x4X5"
      }
    },
    {
      "cell_type": "code",
      "source": [
        "# preprocessing earning transcripts from financial service sector in 2018 Q1\n",
        "functions_for_preprocessing_earning_call_transcripts.preprocessing(\"financial_service_earning_call_transcript/financial_service_2018_Q1.csv\",\"post_processing_earning_transcripts_2018_Q1.csv\")"
      ],
      "metadata": {
        "id": "GW9YGEuUvWV9"
      },
      "execution_count": null,
      "outputs": []
    },
    {
      "cell_type": "code",
      "source": [
        "# preprocessing earning transcripts from financial service sector in 2018 Q2\n",
        "functions_for_preprocessing_earning_call_transcripts.preprocessing(\"financial_service_earning_call_transcript/financial_service_2018_Q2.csv\",\"post_processing_earning_transcripts_2018_Q2.csv\")"
      ],
      "metadata": {
        "id": "1-DmHV8Gv6HZ"
      },
      "execution_count": null,
      "outputs": []
    },
    {
      "cell_type": "code",
      "source": [
        "# preprocessing earning transcripts from financial service sector in 2018 Q3\n",
        "functions_for_preprocessing_earning_call_transcripts.preprocessing(\"financial_service_earning_call_transcript/financial_service_2018_Q3.csv\",\"post_processing_earning_transcripts_2018_Q3.csv\")"
      ],
      "metadata": {
        "id": "WGH-QRoKwANS"
      },
      "execution_count": null,
      "outputs": []
    },
    {
      "cell_type": "code",
      "source": [
        "# preprocessing earning transcripts from financial service sector in 2018 Q4\n",
        "functions_for_preprocessing_earning_call_transcripts.preprocessing(\"financial_service_earning_call_transcript/financial_service_2018_Q4.csv\",\"post_processing_earning_transcripts_2018_Q4.csv\")"
      ],
      "metadata": {
        "id": "CSet1k3hwAK0"
      },
      "execution_count": null,
      "outputs": []
    },
    {
      "cell_type": "code",
      "source": [
        "# preprocessing earning transcripts from financial service sector in 2019 Q1\n",
        "functions_for_preprocessing_earning_call_transcripts.preprocessing(\"financial_service_earning_call_transcript/financial_service_2019_Q1.csv\",\"post_processing_earning_transcripts_2019_Q1.csv\")"
      ],
      "metadata": {
        "id": "tPm86iG2wAIX"
      },
      "execution_count": null,
      "outputs": []
    },
    {
      "cell_type": "code",
      "source": [
        "# preprocessing earning transcripts from financial service sector in 2019 Q2\n",
        "functions_for_preprocessing_earning_call_transcripts.preprocessing(\"financial_service_earning_call_transcript/financial_service_2019_Q2.csv\",\"post_processing_earning_transcripts_2019_Q2.csv\")"
      ],
      "metadata": {
        "id": "xu-nRTGYwAF_"
      },
      "execution_count": null,
      "outputs": []
    },
    {
      "cell_type": "code",
      "source": [
        "# preprocessing earning transcripts from financial service sector in 2019 Q3\n",
        "functions_for_preprocessing_earning_call_transcripts.preprocessing(\"financial_service_earning_call_transcript/financial_service_2019_Q3.csv\",\"post_processing_earning_transcripts_2019_Q3.csv\")"
      ],
      "metadata": {
        "id": "ycz5icizwADn"
      },
      "execution_count": null,
      "outputs": []
    },
    {
      "cell_type": "code",
      "source": [
        "# preprocessing earning transcripts from financial service sector in 2019 Q4\n",
        "functions_for_preprocessing_earning_call_transcripts.preprocessing(\"financial_service_earning_call_transcript/financial_service_2019_Q4.csv\",\"post_processing_earning_transcripts_2019_Q4.csv\")"
      ],
      "metadata": {
        "id": "aMaRYW38wABu"
      },
      "execution_count": null,
      "outputs": []
    },
    {
      "cell_type": "code",
      "source": [
        "# preprocessing earning transcripts from financial service sector in 2020 Q1\n",
        "functions_for_preprocessing_earning_call_transcripts.preprocessing(\"financial_service_earning_call_transcript/financial_service_2020_Q1.csv\",\"post_processing_earning_transcripts_2020_Q1.csv\")"
      ],
      "metadata": {
        "id": "0ySH1jDVw1Od"
      },
      "execution_count": null,
      "outputs": []
    },
    {
      "cell_type": "code",
      "source": [
        "# preprocessing earning transcripts from financial service sector in 2020 Q2\n",
        "functions_for_preprocessing_earning_call_transcripts.preprocessing(\"financial_service_earning_call_transcript/financial_service_2020_Q2.csv\",\"post_processing_earning_transcripts_2020_Q2.csv\")"
      ],
      "metadata": {
        "id": "5xRgnflZw1Om"
      },
      "execution_count": null,
      "outputs": []
    },
    {
      "cell_type": "code",
      "source": [
        "# preprocessing earning transcripts from financial service sector in 2020 Q3\n",
        "functions_for_preprocessing_earning_call_transcripts.preprocessing(\"financial_service_earning_call_transcript/financial_service_2020_Q3.csv\",\"post_processing_earning_transcripts_2020_Q3.csv\")"
      ],
      "metadata": {
        "id": "GvZpCJf3w1Om"
      },
      "execution_count": null,
      "outputs": []
    },
    {
      "cell_type": "code",
      "source": [
        "# preprocessing earning transcripts from financial service sector in 2020 Q4\n",
        "functions_for_preprocessing_earning_call_transcripts.preprocessing(\"financial_service_earning_call_transcript/financial_service_2020_Q4.csv\",\"post_processing_earning_transcripts_2020_Q4.csv\")"
      ],
      "metadata": {
        "id": "CoDg5Nxjw1Om"
      },
      "execution_count": null,
      "outputs": []
    },
    {
      "cell_type": "code",
      "source": [
        "# preprocessing earning transcripts from financial service sector in 2021 Q1\n",
        "functions_for_preprocessing_earning_call_transcripts.preprocessing(\"financial_service_earning_call_transcript/financial_service_2021_Q1.csv\",\"post_processing_earning_transcripts_2021_Q1.csv\")"
      ],
      "metadata": {
        "id": "I2cytNL7xLlZ"
      },
      "execution_count": null,
      "outputs": []
    },
    {
      "cell_type": "code",
      "source": [
        "# preprocessing earning transcripts from financial service sector in 2021 Q2\n",
        "functions_for_preprocessing_earning_call_transcripts.preprocessing(\"financial_service_earning_call_transcript/financial_service_2021_Q2.csv\",\"post_processing_earning_transcripts_2021_Q2.csv\")"
      ],
      "metadata": {
        "id": "5Yd9sROExLla"
      },
      "execution_count": null,
      "outputs": []
    },
    {
      "cell_type": "code",
      "source": [
        "# preprocessing earning transcripts from financial service sector in 2021 Q3\n",
        "functions_for_preprocessing_earning_call_transcripts.preprocessing(\"financial_service_earning_call_transcript/financial_service_2021_Q3.csv\",\"post_processing_earning_transcripts_2021_Q3.csv\")"
      ],
      "metadata": {
        "id": "q3mZvp0MxLla"
      },
      "execution_count": null,
      "outputs": []
    },
    {
      "cell_type": "code",
      "source": [
        "# preprocessing earning transcripts from financial service sector in 2021 Q4\n",
        "functions_for_preprocessing_earning_call_transcripts.preprocessing(\"financial_service_earning_call_transcript/financial_service_2021_Q4.csv\",\"post_processing_earning_transcripts_2021_Q4.csv\")"
      ],
      "metadata": {
        "id": "7QSLuAwAxLla"
      },
      "execution_count": null,
      "outputs": []
    },
    {
      "cell_type": "code",
      "source": [
        "# preprocessing earning transcripts from financial service sector in 2022 Q1\n",
        "functions_for_preprocessing_earning_call_transcripts.preprocessing(\"financial_service_earning_call_transcript/financial_service_2022_Q1.csv\",\"post_processing_earning_transcripts_2022_Q1.csv\")"
      ],
      "metadata": {
        "id": "9q8ym6aGxWjB"
      },
      "execution_count": null,
      "outputs": []
    },
    {
      "cell_type": "code",
      "source": [
        "# preprocessing earning transcripts from financial service sector in 2022 Q2\n",
        "functions_for_preprocessing_earning_call_transcripts.preprocessing(\"financial_service_earning_call_transcript/financial_service_2022_Q2.csv\",\"post_processing_earning_transcripts_2022_Q2.csv\")"
      ],
      "metadata": {
        "id": "HzPsw62UxWjC"
      },
      "execution_count": null,
      "outputs": []
    },
    {
      "cell_type": "code",
      "source": [
        "# preprocessing earning transcripts from financial service sector in 2022 Q3\n",
        "functions_for_preprocessing_earning_call_transcripts.preprocessing(\"financial_service_earning_call_transcript/financial_service_2022_Q3.csv\",\"post_processing_earning_transcripts_2022_Q3.csv\")"
      ],
      "metadata": {
        "id": "NuYL_I04xWjC"
      },
      "execution_count": null,
      "outputs": []
    },
    {
      "cell_type": "code",
      "source": [
        "# preprocessing earning transcripts from financial service sector in 2022 Q4\n",
        "functions_for_preprocessing_earning_call_transcripts.preprocessing(\"financial_service_earning_call_transcript/financial_service_2022_Q4.csv\",\"post_processing_earning_transcripts_2022_Q4.csv\")"
      ],
      "metadata": {
        "id": "k35bFkgkxWjC"
      },
      "execution_count": null,
      "outputs": []
    }
  ]
}